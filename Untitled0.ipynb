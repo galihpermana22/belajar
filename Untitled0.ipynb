{
  "nbformat": 4,
  "nbformat_minor": 0,
  "metadata": {
    "colab": {
      "provenance": [],
      "authorship_tag": "ABX9TyNcO19eGhU3+P9N7+qkD1SP",
      "include_colab_link": true
    },
    "kernelspec": {
      "name": "python3",
      "display_name": "Python 3"
    },
    "language_info": {
      "name": "python"
    }
  },
  "cells": [
    {
      "cell_type": "markdown",
      "metadata": {
        "id": "view-in-github",
        "colab_type": "text"
      },
      "source": [
        "<a href=\"https://colab.research.google.com/github/galihpermana22/belajar/blob/main/Untitled0.ipynb\" target=\"_parent\"><img src=\"https://colab.research.google.com/assets/colab-badge.svg\" alt=\"Open In Colab\"/></a>"
      ]
    },
    {
      "cell_type": "code",
      "source": [
        "print(\"TUGAS SESI 4\")\n",
        "print (\"GALIH PERMANA\")\n",
        "print(\"-----------------\")\n",
        "X = 16\n",
        "Y = 32\n",
        "print('X =', X, '=', format(X, '08b')) \n",
        "print('Y =', Y, '=', format(Y, '08b'), '\\n')\n",
        "\n",
        "print('[and]') \n",
        "print('X & Y =', X & Y) \n",
        "print(format(X, '08b'), '^', format(Y, '08b'), '=', format(X & Y, '08b'), '\\n')\n",
        "\n",
        "print('[or]') \n",
        "print('X | Y =', X | Y) \n",
        "print(format(X, '08b'), '|', format(Y, '08b'), '=', format(X | Y, '08b'), '\\n')\n",
        "\n",
        "print('[not]') \n",
        "print('~X ~Y =', ~X, ~Y) \n",
        "print('~' + format(X, '08b'), '~' + format(Y, '08b'), '=', format(~X, '08b'), format(~Y, '08b'), '\\n')"
      ],
      "metadata": {
        "colab": {
          "base_uri": "https://localhost:8080/"
        },
        "id": "iBUQfCV8OZqt",
        "outputId": "22a42d55-c11e-4a02-d543-619823bfbaf6"
      },
      "execution_count": 5,
      "outputs": [
        {
          "output_type": "stream",
          "name": "stdout",
          "text": [
            "TUGAS SESI 4\n",
            "GALIH PERMANA\n",
            "-----------------\n",
            "X = 16 = 00010000\n",
            "Y = 32 = 00100000 \n",
            "\n",
            "[and]\n",
            "X & Y = 0\n",
            "00010000 ^ 00100000 = 00000000 \n",
            "\n",
            "[or]\n",
            "X | Y = 48\n",
            "00010000 | 00100000 = 00110000 \n",
            "\n",
            "[not]\n",
            "~X ~Y = -17 -33\n",
            "~00010000 ~00100000 = -0010001 -0100001 \n",
            "\n"
          ]
        }
      ]
    }
  ]
}