{
  "nbformat": 4,
  "nbformat_minor": 0,
  "metadata": {
    "colab": {
      "provenance": [],
      "authorship_tag": "ABX9TyPuWDcLfpItfkDW+/LhLQdU",
      "include_colab_link": true
    },
    "kernelspec": {
      "name": "python3",
      "display_name": "Python 3"
    },
    "language_info": {
      "name": "python"
    }
  },
  "cells": [
    {
      "cell_type": "markdown",
      "metadata": {
        "id": "view-in-github",
        "colab_type": "text"
      },
      "source": [
        "<a href=\"https://colab.research.google.com/github/galihpermana22/belajar/blob/main/TUGAS_SESI_7_GALIH_PERMANA.ipynb\" target=\"_parent\"><img src=\"https://colab.research.google.com/assets/colab-badge.svg\" alt=\"Open In Colab\"/></a>"
      ]
    },
    {
      "cell_type": "code",
      "execution_count": null,
      "metadata": {
        "colab": {
          "base_uri": "https://localhost:8080/"
        },
        "id": "wzTCK3LMryAz",
        "outputId": "b0fb93a7-38ef-4bc2-b3e4-51e7d5302505"
      },
      "outputs": [
        {
          "output_type": "stream",
          "name": "stdout",
          "text": [
            "--------- 🅺🅰🅻🅺🆄🅻🅰🆃🅾🆁 🆂🅴🅳🅴🆁🅷🅰🅽🅰 ---------\n",
            "================= Galih Permana ==================\n",
            "[1] Menghitung Luas Segitiga\n",
            "[2] Menghitung Luas Persegi Panjang\n",
            "[3] Menentukan Nomor Ganjil/Genap\n",
            "[4] exit\n",
            "Pilih : 1\n",
            "\n",
            "Masukan Alas   : 3\n",
            "Masukan Tinggi : 1\n",
            "\n",
            "Luas Segitiga dari \n",
            "Alas   = 3\n",
            "Tinggi = 1 \n",
            "Dengan Rumus 1/2 x Alas x Tinggi\n",
            "Hasilnya = 1.5\n",
            "\n",
            "--------- 🅺🅰🅻🅺🆄🅻🅰🆃🅾🆁 🆂🅴🅳🅴🆁🅷🅰🅽🅰 ---------\n",
            "================= Galih Permana ==================\n",
            "[1] Menghitung Luas Segitiga\n",
            "[2] Menghitung Luas Persegi Panjang\n",
            "[3] Menentukan Nomor Ganjil/Genap\n",
            "[4] exit\n",
            "Pilih : 2\n",
            "\n",
            "Masukan Panjang : 3\n",
            "Masukan Lebar   : 3\n",
            "\n",
            "Luas Persegi Panjang dari \n",
            "Panjang = 3 \n",
            "Lebar = 3 \n",
            "Dengan Rumus Panjang x Lebar \n",
            "Hasilnya = 9\n",
            "\n",
            "--------- 🅺🅰🅻🅺🆄🅻🅰🆃🅾🆁 🆂🅴🅳🅴🆁🅷🅰🅽🅰 ---------\n",
            "================= Galih Permana ==================\n",
            "[1] Menghitung Luas Segitiga\n",
            "[2] Menghitung Luas Persegi Panjang\n",
            "[3] Menentukan Nomor Ganjil/Genap\n",
            "[4] exit\n"
          ]
        }
      ],
      "source": [
        "while True:\n",
        "    print(\" 🅺🅰🅻🅺🆄🅻🅰🆃🅾🆁 🆂🅴🅳🅴🆁🅷🅰🅽🅰 \".center(40,\"-\"))\n",
        "    print(\" Galih Permana \".center(50,\"=\"))\n",
        "    print(\"\"\"[1] Menghitung Luas Segitiga\n",
        "[2] Menghitung Luas Persegi Panjang\n",
        "[3] Menentukan Nomor Ganjil/Genap\n",
        "[4] exit\"\"\")\n",
        "    opt = int(input(\"Pilih : \"))\n",
        "    if opt == 1:\n",
        "        alas = int(input(\"\\nMasukan Alas   : \"))\n",
        "        tinggi = int(input(\"Masukan Tinggi : \"))\n",
        "        print(f\"\\nLuas Segitiga dari \\nAlas   = {alas}\\nTinggi = {tinggi} \\nDengan Rumus 1/2 x Alas x Tinggi\\nHasilnya = {alas*tinggi*0.5}\\n\")\n",
        "    elif opt == 2:\n",
        "        panjang = int(input(\"\\nMasukan Panjang : \"))\n",
        "        lebar = int(input(\"Masukan Lebar   : \"))\n",
        "        print(f\"\\nLuas Persegi Panjang dari \\nPanjang = {panjang} \\nLebar = {lebar} \\nDengan Rumus Panjang x Lebar \\nHasilnya = {panjang*lebar}\\n\")\n",
        "    elif opt == 3:\n",
        "        num = int(input(\"\\nMasukan angka : \"))\n",
        "        if num % 2 == 0:\n",
        "            print(f\"{num} adalah genap\\n\")\n",
        "        else:\n",
        "            print(f\"{num} adalah ganjil\\n\")\n",
        "    elif opt == 4:\n",
        "        quit = input(\"\\nApakah Kamu Ingin Keluar (y/n) : \")\n",
        "        if quit == 'y':\n",
        "            print(\"enjoy!\")\n",
        "            break\n",
        "        else: continue\n",
        "    else:\n",
        "        print(\"ERROR - Angka yang anda masukan tidak ada didalam daftar\")"
      ]
    }
  ]
}